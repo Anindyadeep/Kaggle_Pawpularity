{
 "cells": [
  {
   "cell_type": "code",
   "execution_count": 1,
   "metadata": {},
   "outputs": [],
   "source": [
    "import torch \n",
    "import torch.nn as nn\n",
    "import torch.nn.functional as F \n",
    "from torchvision.models import vgg11\n",
    "\n",
    "\n",
    "class ImageModel(nn.Module):\n",
    "    def __init__(self):\n",
    "        super(ImageModel, self).__init__() \n",
    "        self.VGG11 = vgg11(pretrained=True)\n",
    "        self.VGG11 = self.VGG11.features\n",
    "        for params in self.VGG11.parameters():\n",
    "            params.requires_grad = False \n",
    "        \n",
    "        self.flatten = nn.Flatten()\n",
    "        self.linear1 = nn.Linear(in_features = 25088, out_features = 2048)\n",
    "        self.linear2 = nn.Linear(in_features = 2048, out_features = 2048)\n",
    "        self.drop = nn.Dropout(p = 0.3)\n",
    "        self.linear3 = nn.Linear(in_features = 2048, out_features = 512)\n",
    "        self.relu = nn.ReLU()\n",
    "\n",
    "    def forward(self, x):\n",
    "        x = self.VGG11(x)\n",
    "        x = self.flatten(x)\n",
    "        x = self.linear1(x)\n",
    "        x = self.relu(x)\n",
    "        x = self.drop(x)\n",
    "        x = self.linear2(x)\n",
    "        x = self.relu(x)\n",
    "        x = self.drop(x)\n",
    "        x = self.linear3(x)\n",
    "        return x\n",
    "    \n",
    "\n",
    "class TabularModel(nn.Module):\n",
    "    def __init__(self):\n",
    "        super(TabularModel, self).__init__()\n",
    "        self.linear1 = nn.Linear(in_features = 12, out_features = 32)\n",
    "        self.linear2 = nn.Linear(in_features = 32, out_features = 64)\n",
    "        self.relu = nn.ReLU()\n",
    "\n",
    "    def forward(self, x):\n",
    "        x = self.linear1(x)\n",
    "        x = self.relu(x) \n",
    "        x = self.linear2(x)\n",
    "        return x \n",
    "\n",
    "class ImageTabularModel(nn.Module):\n",
    "    def __init__(self, model1, model2):\n",
    "        super(ImageTabularModel, self).__init__()\n",
    "        self.model1 = model1 \n",
    "        self.model2 = model2 \n",
    "        self.linear1 = nn.Linear(576, 128)\n",
    "        self.linear2 = nn.Linear(128, 32)\n",
    "        self.regressor = nn.Linear(32, 1)\n",
    "    \n",
    "    def forward(self, x1, x2):\n",
    "        x1 = self.model1(x1)\n",
    "        x2 = self.model2(x2)\n",
    "        x = torch.cat((x1, x2), dim=1)\n",
    "        x = self.linear1(x)\n",
    "        x = self.linear2(x)\n",
    "        x = self.regressor(x)\n",
    "        return torch.sigmoid(x)\n",
    "        "
   ]
  },
  {
   "cell_type": "code",
   "execution_count": 2,
   "metadata": {},
   "outputs": [],
   "source": [
    "x1 = torch.rand(64, 3, 224, 224)\n",
    "x2 = torch.rand(64, 12)"
   ]
  },
  {
   "cell_type": "code",
   "execution_count": 3,
   "metadata": {},
   "outputs": [],
   "source": [
    "model1 = ImageModel()\n",
    "model2 = TabularModel()"
   ]
  },
  {
   "cell_type": "code",
   "execution_count": 4,
   "metadata": {},
   "outputs": [
    {
     "data": {
      "text/plain": [
       "torch.Size([64, 512])"
      ]
     },
     "execution_count": 4,
     "metadata": {},
     "output_type": "execute_result"
    }
   ],
   "source": [
    "model1(x1).shape"
   ]
  },
  {
   "cell_type": "code",
   "execution_count": 5,
   "metadata": {},
   "outputs": [
    {
     "data": {
      "text/plain": [
       "torch.Size([64, 64])"
      ]
     },
     "execution_count": 5,
     "metadata": {},
     "output_type": "execute_result"
    }
   ],
   "source": [
    "model2(x2).shape"
   ]
  },
  {
   "cell_type": "code",
   "execution_count": 14,
   "metadata": {},
   "outputs": [],
   "source": [
    "model = ImageTabularModel(model1, model2)\n",
    "out = model(x1, x2)"
   ]
  },
  {
   "cell_type": "code",
   "execution_count": 18,
   "metadata": {},
   "outputs": [],
   "source": [
    "y = torch.rand(64, 1)"
   ]
  },
  {
   "cell_type": "code",
   "execution_count": 19,
   "metadata": {},
   "outputs": [],
   "source": [
    "from sklearn.metrics import r2_score"
   ]
  },
  {
   "cell_type": "code",
   "execution_count": 31,
   "metadata": {},
   "outputs": [
    {
     "data": {
      "text/plain": [
       "-0.0004653412679445079"
      ]
     },
     "execution_count": 31,
     "metadata": {},
     "output_type": "execute_result"
    }
   ],
   "source": [
    "r2_score(y.view(64).tolist(), out.view(64).tolist()) "
   ]
  },
  {
   "cell_type": "code",
   "execution_count": null,
   "metadata": {},
   "outputs": [],
   "source": []
  },
  {
   "cell_type": "code",
   "execution_count": null,
   "metadata": {},
   "outputs": [],
   "source": []
  }
 ],
 "metadata": {
  "interpreter": {
   "hash": "d64481027cfc17b2f6c9c97d40f9eb913c66ebbdbe6b13499de66bb85b0438bb"
  },
  "kernelspec": {
   "display_name": "Python 3.8.11 64-bit ('torch21': conda)",
   "language": "python",
   "name": "python3"
  },
  "language_info": {
   "codemirror_mode": {
    "name": "ipython",
    "version": 3
   },
   "file_extension": ".py",
   "mimetype": "text/x-python",
   "name": "python",
   "nbconvert_exporter": "python",
   "pygments_lexer": "ipython3",
   "version": "3.8.11"
  },
  "orig_nbformat": 4
 },
 "nbformat": 4,
 "nbformat_minor": 2
}
