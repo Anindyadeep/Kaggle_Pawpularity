{
 "cells": [
  {
   "cell_type": "code",
   "execution_count": 28,
   "metadata": {},
   "outputs": [],
   "source": [
    "import os \n",
    "from pathlib import Path\n",
    "import torch\n",
    "import torchvision.transforms as transforms \n",
    "import numpy as np \n",
    "import pandas as pd \n",
    "from torch.utils.data import DataLoader, Dataset"
   ]
  },
  {
   "cell_type": "code",
   "execution_count": 4,
   "metadata": {},
   "outputs": [],
   "source": [
    "train_csv_path = os.path.join('/home/anindya/Documents/kaggle/Pawpularity/TRIAL 1 CONCAT/Data/train.csv')\n",
    "train_df = pd.read_csv(train_csv_path)\n",
    "\n",
    "features_train_df = np.array(train_df.iloc[:, 1:-1])\n",
    "transform = transforms.Compose([\n",
    "    transforms.ToTensor(),\n",
    "])\n"
   ]
  },
  {
   "cell_type": "code",
   "execution_count": 5,
   "metadata": {},
   "outputs": [],
   "source": [
    "f_df = transform(features_train_df)"
   ]
  },
  {
   "cell_type": "code",
   "execution_count": 18,
   "metadata": {},
   "outputs": [],
   "source": [
    "fdf2 = torch.squeeze(f_df, dim=0)"
   ]
  },
  {
   "cell_type": "code",
   "execution_count": 25,
   "metadata": {},
   "outputs": [
    {
     "data": {
      "text/plain": [
       "tensor([0, 1, 1, 0, 0, 0, 0, 0, 0, 0, 0, 0])"
      ]
     },
     "execution_count": 25,
     "metadata": {},
     "output_type": "execute_result"
    }
   ],
   "source": [
    "torch.tensor(features_train_df[1])"
   ]
  },
  {
   "cell_type": "code",
   "execution_count": 46,
   "metadata": {},
   "outputs": [],
   "source": [
    "class TabularDataset(Dataset):\n",
    "    def __init__(self, csv_path, df, train, feature_label_col_dict):\n",
    "        super(TabularDataset, self).__init__()\n",
    "        self.csv_path = csv_path\n",
    "        self.df = df \n",
    "        self.train = train \n",
    "        self.feature_label_col_dict = feature_label_col_dict\n",
    "        if df is not None:\n",
    "            self.data = self.df \n",
    "        else:\n",
    "            self.data = pd.read_csv(self.csv_path)\n",
    "    \n",
    "    def __len__(self):\n",
    "        return len(self.data)\n",
    "    \n",
    "    def __getitem__(self, idx):\n",
    "        feature_start = self.feature_label_col_dict['feature'][0]\n",
    "        feature_end = self.feature_label_col_dict['feature'][1]\n",
    "        label = self.feature_label_col_dict['label']\n",
    "\n",
    "        feature_data = np.array(self.data.iloc[:, feature_start:feature_end])\n",
    "        label_data = np.array(self.data.iloc[:, label:])\n",
    "        features = torch.tensor(feature_data[idx]) \n",
    "        label = torch.tensor(label_data[idx]).view(1)\n",
    "        return (features, label)"
   ]
  },
  {
   "cell_type": "code",
   "execution_count": 54,
   "metadata": {},
   "outputs": [],
   "source": [
    "feature_label_col_dict = {\n",
    "    'feature' : (1, 13), \n",
    "    'label' : -1\n",
    "}\n",
    "\n",
    "dataset = TabularDataset(\n",
    "    csv_path=None, \n",
    "    df = train_df, \n",
    "    train = None, \n",
    "    feature_label_col_dict = feature_label_col_dict\n",
    ")"
   ]
  },
  {
   "cell_type": "code",
   "execution_count": 55,
   "metadata": {},
   "outputs": [],
   "source": [
    "loader = DataLoader(dataset, batch_size=64)"
   ]
  },
  {
   "cell_type": "code",
   "execution_count": 57,
   "metadata": {},
   "outputs": [
    {
     "data": {
      "text/plain": [
       "(tensor([0, 1, 1, 0, 0, 0, 0, 0, 0, 0, 0, 0]), tensor([42]))"
      ]
     },
     "execution_count": 57,
     "metadata": {},
     "output_type": "execute_result"
    }
   ],
   "source": [
    "dataset[1]"
   ]
  },
  {
   "cell_type": "code",
   "execution_count": 1,
   "metadata": {},
   "outputs": [
    {
     "name": "stderr",
     "output_type": "stream",
     "text": [
      "Downloading: \"https://download.pytorch.org/models/vgg11-8a719046.pth\" to /home/anindya/.cache/torch/hub/checkpoints/vgg11-8a719046.pth\n",
      "100%|██████████| 507M/507M [03:15<00:00, 2.72MB/s]\n"
     ]
    }
   ],
   "source": [
    "from torchvision.models import vgg11\n",
    "VGG11 = vgg11(pretrained=True)\n",
    "VGG11 = VGG11.features\n",
    "for params in VGG11.parameters():\n",
    "    params.requires_grad = False "
   ]
  },
  {
   "cell_type": "code",
   "execution_count": 3,
   "metadata": {},
   "outputs": [
    {
     "name": "stdout",
     "output_type": "stream",
     "text": [
      "torch.Size([64, 512, 7, 7])\n"
     ]
    }
   ],
   "source": [
    "import torch\n",
    "x = torch.rand(64, 3, 224, 224)\n",
    "xp = VGG11(x)\n",
    "print(xp.shape)"
   ]
  },
  {
   "cell_type": "code",
   "execution_count": 6,
   "metadata": {},
   "outputs": [],
   "source": [
    "import torch.nn as nn \n",
    "fl = nn.Flatten()(x)\n"
   ]
  },
  {
   "cell_type": "code",
   "execution_count": 7,
   "metadata": {},
   "outputs": [
    {
     "data": {
      "text/plain": [
       "torch.Size([64, 150528])"
      ]
     },
     "execution_count": 7,
     "metadata": {},
     "output_type": "execute_result"
    }
   ],
   "source": [
    "fl.shape"
   ]
  },
  {
   "cell_type": "code",
   "execution_count": null,
   "metadata": {},
   "outputs": [],
   "source": []
  }
 ],
 "metadata": {
  "interpreter": {
   "hash": "d64481027cfc17b2f6c9c97d40f9eb913c66ebbdbe6b13499de66bb85b0438bb"
  },
  "kernelspec": {
   "display_name": "Python 3.8.11 64-bit ('torch21': conda)",
   "language": "python",
   "name": "python3"
  },
  "language_info": {
   "codemirror_mode": {
    "name": "ipython",
    "version": 3
   },
   "file_extension": ".py",
   "mimetype": "text/x-python",
   "name": "python",
   "nbconvert_exporter": "python",
   "pygments_lexer": "ipython3",
   "version": "3.8.11"
  },
  "orig_nbformat": 4
 },
 "nbformat": 4,
 "nbformat_minor": 2
}
