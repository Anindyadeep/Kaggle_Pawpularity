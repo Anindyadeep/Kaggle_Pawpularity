{
 "cells": [
  {
   "cell_type": "markdown",
   "metadata": {
    "id": "XWJ2ozHS2m_Q"
   },
   "source": [
    "### **Intial installs**"
   ]
  },
  {
   "cell_type": "code",
   "execution_count": 1,
   "metadata": {
    "colab": {
     "base_uri": "https://localhost:8080/"
    },
    "collapsed": true,
    "id": "OrYblVhA1esG",
    "jupyter": {
     "outputs_hidden": true,
     "source_hidden": true
    },
    "outputId": "35b1bf0a-7fb5-405c-ac28-e171478f77c2"
   },
   "outputs": [
    {
     "name": "stdout",
     "output_type": "stream",
     "text": [
      "Collecting kaggle\n",
      "  Downloading kaggle-1.5.12.tar.gz (58 kB)\n",
      "\u001b[K     |████████████████████████████████| 58 kB 3.1 MB/s eta 0:00:011\n",
      "\u001b[?25hBuilding wheels for collected packages: kaggle\n",
      "  Building wheel for kaggle (setup.py) ... \u001b[?25l\u001b[?25hdone\n",
      "  Created wheel for kaggle: filename=kaggle-1.5.12-py3-none-any.whl size=73051 sha256=b6b45c78c6b53978ded65bf9beb79e028d209609b028f6c1b8cfcf3ace92e309\n",
      "  Stored in directory: /root/.cache/pip/wheels/62/d6/58/5853130f941e75b2177d281eb7e44b4a98ed46dd155f556dc5\n",
      "Successfully built kaggle\n",
      "Installing collected packages: kaggle\n",
      "  Attempting uninstall: kaggle\n",
      "    Found existing installation: kaggle 1.5.12\n",
      "    Uninstalling kaggle-1.5.12:\n",
      "      Successfully uninstalled kaggle-1.5.12\n",
      "Successfully installed kaggle-1.5.12\n"
     ]
    }
   ],
   "source": [
    "!pip install --upgrade --force-reinstall --no-deps kaggle"
   ]
  },
  {
   "cell_type": "code",
   "execution_count": 2,
   "metadata": {
    "colab": {
     "base_uri": "https://localhost:8080/"
    },
    "collapsed": true,
    "id": "dyjvpF0R2COr",
    "jupyter": {
     "outputs_hidden": true,
     "source_hidden": true
    },
    "outputId": "38f939c7-19e8-4f25-df18-2f3abacb6d51"
   },
   "outputs": [
    {
     "name": "stdout",
     "output_type": "stream",
     "text": [
      "/root\n"
     ]
    }
   ],
   "source": [
    "cd"
   ]
  },
  {
   "cell_type": "code",
   "execution_count": 3,
   "metadata": {
    "colab": {
     "base_uri": "https://localhost:8080/"
    },
    "collapsed": true,
    "id": "giryNxK32ED8",
    "jupyter": {
     "outputs_hidden": true,
     "source_hidden": true
    },
    "outputId": "68ac7dab-08fc-409f-a208-582910f6a3d3"
   },
   "outputs": [
    {
     "name": "stdout",
     "output_type": "stream",
     "text": [
      "/\n"
     ]
    }
   ],
   "source": [
    "cd .."
   ]
  },
  {
   "cell_type": "code",
   "execution_count": 5,
   "metadata": {
    "colab": {
     "base_uri": "https://localhost:8080/"
    },
    "collapsed": true,
    "id": "aivtvIQr2E5k",
    "jupyter": {
     "outputs_hidden": true,
     "source_hidden": true
    },
    "outputId": "1505fbe4-e4ef-4f9e-f6e7-6579666b75f5"
   },
   "outputs": [
    {
     "name": "stdout",
     "output_type": "stream",
     "text": [
      "/root\n"
     ]
    }
   ],
   "source": [
    "cd root"
   ]
  },
  {
   "cell_type": "code",
   "execution_count": 6,
   "metadata": {
    "colab": {
     "base_uri": "https://localhost:8080/"
    },
    "collapsed": true,
    "id": "f7eXGBza2GAK",
    "jupyter": {
     "outputs_hidden": true,
     "source_hidden": true
    },
    "outputId": "46712323-f7cf-45a4-f954-4ea71d666e5a"
   },
   "outputs": [
    {
     "name": "stdout",
     "output_type": "stream",
     "text": [
      "\u001b[0m\u001b[01;34m.\u001b[0m/   \u001b[01;32m.bashrc\u001b[0m*  \u001b[01;34m.config\u001b[0m/  \u001b[01;34m.ipython\u001b[0m/  \u001b[01;34m.keras\u001b[0m/  \u001b[01;34m.npm\u001b[0m/     \u001b[01;32m.tmux.conf\u001b[0m*\n",
      "\u001b[01;34m..\u001b[0m/  \u001b[01;34m.cache\u001b[0m/   \u001b[01;34m.gsutil\u001b[0m/  \u001b[01;34m.jupyter\u001b[0m/  \u001b[01;34m.local\u001b[0m/  .profile\n"
     ]
    }
   ],
   "source": [
    "ls -a"
   ]
  },
  {
   "cell_type": "code",
   "execution_count": 9,
   "metadata": {
    "id": "6jEMUfKU2ISo",
    "jupyter": {
     "source_hidden": true
    }
   },
   "outputs": [],
   "source": [
    "mkdir .kaggle"
   ]
  },
  {
   "cell_type": "code",
   "execution_count": 10,
   "metadata": {
    "colab": {
     "base_uri": "https://localhost:8080/"
    },
    "collapsed": true,
    "id": "welnDWGL2J1A",
    "jupyter": {
     "outputs_hidden": true,
     "source_hidden": true
    },
    "outputId": "4ac1f088-5965-4171-c8f9-38b280e9f8f3"
   },
   "outputs": [
    {
     "name": "stdout",
     "output_type": "stream",
     "text": [
      "/root/.kaggle\n"
     ]
    }
   ],
   "source": [
    "cd .kaggle"
   ]
  },
  {
   "cell_type": "code",
   "execution_count": 11,
   "metadata": {
    "colab": {
     "base_uri": "https://localhost:8080/",
     "height": 0,
     "resources": {
      "http://localhost:8080/nbextensions/google.colab/files.js": {
       "data": "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",
       "headers": [
        [
         "content-type",
         "application/javascript"
        ]
       ],
       "ok": true,
       "status": 200,
       "status_text": ""
      }
     }
    },
    "collapsed": true,
    "id": "wWVTRWvA2NMS",
    "jupyter": {
     "outputs_hidden": true,
     "source_hidden": true
    },
    "outputId": "fdb337e1-1c90-48ec-f033-f416a5fc1375"
   },
   "outputs": [
    {
     "data": {
      "text/html": [
       "\n",
       "     <input type=\"file\" id=\"files-7838dfa2-ab4d-425c-a187-1969ba24f78b\" name=\"files[]\" multiple disabled\n",
       "        style=\"border:none\" />\n",
       "     <output id=\"result-7838dfa2-ab4d-425c-a187-1969ba24f78b\">\n",
       "      Upload widget is only available when the cell has been executed in the\n",
       "      current browser session. Please rerun this cell to enable.\n",
       "      </output>\n",
       "      <script src=\"/nbextensions/google.colab/files.js\"></script> "
      ],
      "text/plain": [
       "<IPython.core.display.HTML object>"
      ]
     },
     "metadata": {},
     "output_type": "display_data"
    },
    {
     "name": "stdout",
     "output_type": "stream",
     "text": [
      "Saving kaggle.json to kaggle.json\n"
     ]
    },
    {
     "data": {
      "text/plain": [
       "{'kaggle.json': b'{\"username\":\"anindyadeeppro\",\"key\":\"5e6106236f4c33c4f11c33ac77c43a71\"}'}"
      ]
     },
     "execution_count": 11,
     "metadata": {},
     "output_type": "execute_result"
    }
   ],
   "source": [
    "from google.colab import files\n",
    "files.upload()"
   ]
  },
  {
   "cell_type": "code",
   "execution_count": 12,
   "metadata": {
    "colab": {
     "base_uri": "https://localhost:8080/"
    },
    "collapsed": true,
    "id": "lxF0pH2S2QIq",
    "jupyter": {
     "outputs_hidden": true,
     "source_hidden": true
    },
    "outputId": "675b916f-f4dd-402e-bfbe-7096f4d0b97c"
   },
   "outputs": [
    {
     "name": "stdout",
     "output_type": "stream",
     "text": [
      "/root\n"
     ]
    }
   ],
   "source": [
    "cd"
   ]
  },
  {
   "cell_type": "code",
   "execution_count": 13,
   "metadata": {
    "colab": {
     "base_uri": "https://localhost:8080/"
    },
    "collapsed": true,
    "id": "oWIwHz7s2Szo",
    "jupyter": {
     "outputs_hidden": true,
     "source_hidden": true
    },
    "outputId": "e0a00504-9c92-4983-c0cb-848b69da556c"
   },
   "outputs": [
    {
     "name": "stdout",
     "output_type": "stream",
     "text": [
      "/\n"
     ]
    }
   ],
   "source": [
    "cd .."
   ]
  },
  {
   "cell_type": "code",
   "execution_count": 14,
   "metadata": {
    "colab": {
     "base_uri": "https://localhost:8080/"
    },
    "collapsed": true,
    "id": "apqp84eY2UOf",
    "jupyter": {
     "outputs_hidden": true,
     "source_hidden": true
    },
    "outputId": "8e9a8208-1e75-452f-c179-3709323fce24"
   },
   "outputs": [
    {
     "name": "stdout",
     "output_type": "stream",
     "text": [
      "/content\n"
     ]
    }
   ],
   "source": [
    "cd content"
   ]
  },
  {
   "cell_type": "code",
   "execution_count": 15,
   "metadata": {
    "id": "ogiWS6uN2VoP",
    "jupyter": {
     "source_hidden": true
    }
   },
   "outputs": [],
   "source": [
    "rm -rf sample_data"
   ]
  },
  {
   "cell_type": "code",
   "execution_count": 16,
   "metadata": {
    "colab": {
     "base_uri": "https://localhost:8080/"
    },
    "collapsed": true,
    "id": "Yv-KiNt32Xcd",
    "jupyter": {
     "outputs_hidden": true,
     "source_hidden": true
    },
    "outputId": "13e7c051-7ae4-419d-b6c9-6f763f2ec3bc"
   },
   "outputs": [
    {
     "name": "stdout",
     "output_type": "stream",
     "text": [
      "Warning: Your Kaggle API key is readable by other users on this system! To fix this, you can run 'chmod 600 /root/.kaggle/kaggle.json'\n",
      "Downloading petfinder-pawpularity-score.zip to /content\n",
      "100% 979M/983M [00:06<00:00, 139MB/s]\n",
      "100% 983M/983M [00:06<00:00, 159MB/s]\n"
     ]
    }
   ],
   "source": [
    "!kaggle competitions download -c petfinder-pawpularity-score"
   ]
  },
  {
   "cell_type": "code",
   "execution_count": null,
   "metadata": {
    "colab": {
     "base_uri": "https://localhost:8080/"
    },
    "id": "lYC3yUKN2aJF",
    "jupyter": {
     "source_hidden": true
    },
    "outputId": "72c6dfd1-182e-468f-869b-c1a7459b76b3"
   },
   "outputs": [],
   "source": [
    "!unzip petfinder-pawpularity-score.zip"
   ]
  },
  {
   "cell_type": "code",
   "execution_count": 18,
   "metadata": {
    "id": "UB3l4eld2gDu",
    "jupyter": {
     "source_hidden": true
    }
   },
   "outputs": [],
   "source": [
    "rm -rf petfinder-pawpularity-score.zip"
   ]
  },
  {
   "cell_type": "code",
   "execution_count": 20,
   "metadata": {
    "colab": {
     "base_uri": "https://localhost:8080/"
    },
    "collapsed": true,
    "id": "cRhlwlwj22QH",
    "jupyter": {
     "outputs_hidden": true,
     "source_hidden": true
    },
    "outputId": "2d0a4c5f-f951-4bba-c9ae-9eb87712fb91"
   },
   "outputs": [
    {
     "name": "stdout",
     "output_type": "stream",
     "text": [
      "Collecting vit_pytorch\n",
      "  Downloading vit_pytorch-0.23.2-py3-none-any.whl (40 kB)\n",
      "\u001b[K     |████████████████████████████████| 40 kB 3.2 MB/s  eta 0:00:01\n",
      "\u001b[?25hRequirement already satisfied: torch>=1.6 in /usr/local/lib/python3.7/dist-packages (from vit_pytorch) (1.10.0+cu111)\n",
      "Requirement already satisfied: torchvision in /usr/local/lib/python3.7/dist-packages (from vit_pytorch) (0.11.1+cu111)\n",
      "Collecting einops>=0.3\n",
      "  Downloading einops-0.3.2-py3-none-any.whl (25 kB)\n",
      "Requirement already satisfied: typing-extensions in /usr/local/lib/python3.7/dist-packages (from torch>=1.6->vit_pytorch) (3.10.0.2)\n",
      "Requirement already satisfied: pillow!=8.3.0,>=5.3.0 in /usr/local/lib/python3.7/dist-packages (from torchvision->vit_pytorch) (7.1.2)\n",
      "Requirement already satisfied: numpy in /usr/local/lib/python3.7/dist-packages (from torchvision->vit_pytorch) (1.19.5)\n",
      "Installing collected packages: einops, vit-pytorch\n",
      "Successfully installed einops-0.3.2 vit-pytorch-0.23.2\n"
     ]
    }
   ],
   "source": [
    "!pip install vit_pytorch"
   ]
  },
  {
   "cell_type": "markdown",
   "metadata": {
    "id": "PrFS2ByI2vMS"
   },
   "source": [
    "### **Imports and Data Handelling**"
   ]
  },
  {
   "cell_type": "code",
   "execution_count": 46,
   "metadata": {
    "id": "V5qN73Fu2kiu"
   },
   "outputs": [],
   "source": [
    "import os \n",
    "import sys \n",
    "import time\n",
    "import copy\n",
    "import math \n",
    "import numpy as np\n",
    "import pandas as pd \n",
    "from sklearn.preprocessing import StandardScaler\n",
    "import torch \n",
    "import torch.nn as nn\n",
    "import torch.nn.functional as F \n",
    "import torchvision.transforms as transforms\n",
    "import torch.optim as optim \n",
    "from torch.utils.data import Dataset, DataLoader\n",
    "from sklearn.metrics import mean_squared_error, r2_score\n",
    "from vit_pytorch.vit import ViT\n",
    "from sklearn.model_selection import train_test_split\n",
    "import matplotlib.pyplot as plt\n",
    "from PIL import Image\n",
    "import warnings\n",
    "warnings.filterwarnings(\"ignore\")"
   ]
  },
  {
   "cell_type": "code",
   "execution_count": 19,
   "metadata": {
    "id": "UvIWk2EO3uJo"
   },
   "outputs": [],
   "source": [
    "device = 'cuda' if torch.cuda.is_available() else 'cpu'\n",
    "scaler = StandardScaler()"
   ]
  },
  {
   "cell_type": "code",
   "execution_count": 20,
   "metadata": {
    "id": "u6iCzNKt30JL"
   },
   "outputs": [],
   "source": [
    "data = pd.read_csv('/content/train.csv')\n",
    "data[['Pawpularity']] = scaler.fit_transform(data[['Pawpularity']])"
   ]
  },
  {
   "cell_type": "code",
   "execution_count": 24,
   "metadata": {
    "id": "SUR0Ohbn4HDE"
   },
   "outputs": [],
   "source": [
    "train_csv_data = data.iloc[:7929, :]\n",
    "valid_csv_data = data.iloc[7929:, :]"
   ]
  },
  {
   "cell_type": "code",
   "execution_count": 25,
   "metadata": {
    "colab": {
     "base_uri": "https://localhost:8080/"
    },
    "id": "dgbo_KKe4hdB",
    "outputId": "978757e4-030c-4515-86e9-e7b4347c8405"
   },
   "outputs": [
    {
     "data": {
      "text/plain": [
       "((7929, 14), (1983, 14))"
      ]
     },
     "execution_count": 25,
     "metadata": {},
     "output_type": "execute_result"
    }
   ],
   "source": [
    "train_csv_data.shape, valid_csv_data.shape"
   ]
  },
  {
   "cell_type": "code",
   "execution_count": 26,
   "metadata": {
    "id": "iFK6aa8y_3-G"
   },
   "outputs": [],
   "source": [
    "train_csv_data = train_csv_data.reset_index(drop=True)\n",
    "valid_csv_data = valid_csv_data.reset_index(drop=True)"
   ]
  },
  {
   "cell_type": "code",
   "execution_count": 27,
   "metadata": {
    "colab": {
     "base_uri": "https://localhost:8080/",
     "height": 204
    },
    "id": "gP0Hlq7AAmzo",
    "outputId": "d3e653d1-414a-4524-92cc-b46ee6a0ac2d"
   },
   "outputs": [
    {
     "data": {
      "text/html": [
       "<div>\n",
       "<style scoped>\n",
       "    .dataframe tbody tr th:only-of-type {\n",
       "        vertical-align: middle;\n",
       "    }\n",
       "\n",
       "    .dataframe tbody tr th {\n",
       "        vertical-align: top;\n",
       "    }\n",
       "\n",
       "    .dataframe thead th {\n",
       "        text-align: right;\n",
       "    }\n",
       "</style>\n",
       "<table border=\"1\" class=\"dataframe\">\n",
       "  <thead>\n",
       "    <tr style=\"text-align: right;\">\n",
       "      <th></th>\n",
       "      <th>Id</th>\n",
       "      <th>Subject Focus</th>\n",
       "      <th>Eyes</th>\n",
       "      <th>Face</th>\n",
       "      <th>Near</th>\n",
       "      <th>Action</th>\n",
       "      <th>Accessory</th>\n",
       "      <th>Group</th>\n",
       "      <th>Collage</th>\n",
       "      <th>Human</th>\n",
       "      <th>Occlusion</th>\n",
       "      <th>Info</th>\n",
       "      <th>Blur</th>\n",
       "      <th>Pawpularity</th>\n",
       "    </tr>\n",
       "  </thead>\n",
       "  <tbody>\n",
       "    <tr>\n",
       "      <th>0</th>\n",
       "      <td>0007de18844b0dbbb5e1f607da0606e0</td>\n",
       "      <td>0</td>\n",
       "      <td>1</td>\n",
       "      <td>1</td>\n",
       "      <td>1</td>\n",
       "      <td>0</td>\n",
       "      <td>0</td>\n",
       "      <td>1</td>\n",
       "      <td>0</td>\n",
       "      <td>0</td>\n",
       "      <td>0</td>\n",
       "      <td>0</td>\n",
       "      <td>0</td>\n",
       "      <td>1.212229</td>\n",
       "    </tr>\n",
       "    <tr>\n",
       "      <th>1</th>\n",
       "      <td>0009c66b9439883ba2750fb825e1d7db</td>\n",
       "      <td>0</td>\n",
       "      <td>1</td>\n",
       "      <td>1</td>\n",
       "      <td>0</td>\n",
       "      <td>0</td>\n",
       "      <td>0</td>\n",
       "      <td>0</td>\n",
       "      <td>0</td>\n",
       "      <td>0</td>\n",
       "      <td>0</td>\n",
       "      <td>0</td>\n",
       "      <td>0</td>\n",
       "      <td>0.192364</td>\n",
       "    </tr>\n",
       "    <tr>\n",
       "      <th>2</th>\n",
       "      <td>0013fd999caf9a3efe1352ca1b0d937e</td>\n",
       "      <td>0</td>\n",
       "      <td>1</td>\n",
       "      <td>1</td>\n",
       "      <td>1</td>\n",
       "      <td>0</td>\n",
       "      <td>0</td>\n",
       "      <td>0</td>\n",
       "      <td>0</td>\n",
       "      <td>1</td>\n",
       "      <td>1</td>\n",
       "      <td>0</td>\n",
       "      <td>0</td>\n",
       "      <td>-0.487546</td>\n",
       "    </tr>\n",
       "    <tr>\n",
       "      <th>3</th>\n",
       "      <td>0018df346ac9c1d8413cfcc888ca8246</td>\n",
       "      <td>0</td>\n",
       "      <td>1</td>\n",
       "      <td>1</td>\n",
       "      <td>1</td>\n",
       "      <td>0</td>\n",
       "      <td>0</td>\n",
       "      <td>0</td>\n",
       "      <td>0</td>\n",
       "      <td>0</td>\n",
       "      <td>0</td>\n",
       "      <td>0</td>\n",
       "      <td>0</td>\n",
       "      <td>-1.118892</td>\n",
       "    </tr>\n",
       "    <tr>\n",
       "      <th>4</th>\n",
       "      <td>001dc955e10590d3ca4673f034feeef2</td>\n",
       "      <td>0</td>\n",
       "      <td>0</td>\n",
       "      <td>0</td>\n",
       "      <td>1</td>\n",
       "      <td>0</td>\n",
       "      <td>0</td>\n",
       "      <td>1</td>\n",
       "      <td>0</td>\n",
       "      <td>0</td>\n",
       "      <td>0</td>\n",
       "      <td>0</td>\n",
       "      <td>0</td>\n",
       "      <td>1.649315</td>\n",
       "    </tr>\n",
       "  </tbody>\n",
       "</table>\n",
       "</div>"
      ],
      "text/plain": [
       "                                 Id  Subject Focus  ...  Blur  Pawpularity\n",
       "0  0007de18844b0dbbb5e1f607da0606e0              0  ...     0     1.212229\n",
       "1  0009c66b9439883ba2750fb825e1d7db              0  ...     0     0.192364\n",
       "2  0013fd999caf9a3efe1352ca1b0d937e              0  ...     0    -0.487546\n",
       "3  0018df346ac9c1d8413cfcc888ca8246              0  ...     0    -1.118892\n",
       "4  001dc955e10590d3ca4673f034feeef2              0  ...     0     1.649315\n",
       "\n",
       "[5 rows x 14 columns]"
      ]
     },
     "execution_count": 27,
     "metadata": {},
     "output_type": "execute_result"
    }
   ],
   "source": [
    "train_csv_data.head()"
   ]
  },
  {
   "cell_type": "code",
   "execution_count": 28,
   "metadata": {
    "colab": {
     "base_uri": "https://localhost:8080/",
     "height": 204
    },
    "id": "CRs0_A2UApe9",
    "outputId": "0a7a9851-f0bf-4080-d2ce-84d54a450ebc"
   },
   "outputs": [
    {
     "data": {
      "text/html": [
       "<div>\n",
       "<style scoped>\n",
       "    .dataframe tbody tr th:only-of-type {\n",
       "        vertical-align: middle;\n",
       "    }\n",
       "\n",
       "    .dataframe tbody tr th {\n",
       "        vertical-align: top;\n",
       "    }\n",
       "\n",
       "    .dataframe thead th {\n",
       "        text-align: right;\n",
       "    }\n",
       "</style>\n",
       "<table border=\"1\" class=\"dataframe\">\n",
       "  <thead>\n",
       "    <tr style=\"text-align: right;\">\n",
       "      <th></th>\n",
       "      <th>Id</th>\n",
       "      <th>Subject Focus</th>\n",
       "      <th>Eyes</th>\n",
       "      <th>Face</th>\n",
       "      <th>Near</th>\n",
       "      <th>Action</th>\n",
       "      <th>Accessory</th>\n",
       "      <th>Group</th>\n",
       "      <th>Collage</th>\n",
       "      <th>Human</th>\n",
       "      <th>Occlusion</th>\n",
       "      <th>Info</th>\n",
       "      <th>Blur</th>\n",
       "      <th>Pawpularity</th>\n",
       "    </tr>\n",
       "  </thead>\n",
       "  <tbody>\n",
       "    <tr>\n",
       "      <th>0</th>\n",
       "      <td>cd7b87cd2935fa9fde63f77f06d9b953</td>\n",
       "      <td>0</td>\n",
       "      <td>1</td>\n",
       "      <td>1</td>\n",
       "      <td>1</td>\n",
       "      <td>0</td>\n",
       "      <td>1</td>\n",
       "      <td>0</td>\n",
       "      <td>0</td>\n",
       "      <td>0</td>\n",
       "      <td>0</td>\n",
       "      <td>0</td>\n",
       "      <td>0</td>\n",
       "      <td>1.600750</td>\n",
       "    </tr>\n",
       "    <tr>\n",
       "      <th>1</th>\n",
       "      <td>cd863f5c6a56232e5d7b9f26656e479f</td>\n",
       "      <td>0</td>\n",
       "      <td>1</td>\n",
       "      <td>1</td>\n",
       "      <td>1</td>\n",
       "      <td>0</td>\n",
       "      <td>0</td>\n",
       "      <td>0</td>\n",
       "      <td>0</td>\n",
       "      <td>0</td>\n",
       "      <td>0</td>\n",
       "      <td>0</td>\n",
       "      <td>0</td>\n",
       "      <td>-0.536111</td>\n",
       "    </tr>\n",
       "    <tr>\n",
       "      <th>2</th>\n",
       "      <td>cd895e70682ed5151a1a411f1e656a6b</td>\n",
       "      <td>0</td>\n",
       "      <td>1</td>\n",
       "      <td>1</td>\n",
       "      <td>1</td>\n",
       "      <td>0</td>\n",
       "      <td>0</td>\n",
       "      <td>0</td>\n",
       "      <td>0</td>\n",
       "      <td>1</td>\n",
       "      <td>1</td>\n",
       "      <td>0</td>\n",
       "      <td>0</td>\n",
       "      <td>1.455055</td>\n",
       "    </tr>\n",
       "    <tr>\n",
       "      <th>3</th>\n",
       "      <td>cd89974266e5591b36eb35d301d8a314</td>\n",
       "      <td>0</td>\n",
       "      <td>1</td>\n",
       "      <td>1</td>\n",
       "      <td>1</td>\n",
       "      <td>0</td>\n",
       "      <td>1</td>\n",
       "      <td>0</td>\n",
       "      <td>0</td>\n",
       "      <td>0</td>\n",
       "      <td>0</td>\n",
       "      <td>0</td>\n",
       "      <td>0</td>\n",
       "      <td>-0.050461</td>\n",
       "    </tr>\n",
       "    <tr>\n",
       "      <th>4</th>\n",
       "      <td>cd909abf8f425d7e646eebe4d3bf4769</td>\n",
       "      <td>0</td>\n",
       "      <td>0</td>\n",
       "      <td>1</td>\n",
       "      <td>1</td>\n",
       "      <td>0</td>\n",
       "      <td>0</td>\n",
       "      <td>0</td>\n",
       "      <td>1</td>\n",
       "      <td>0</td>\n",
       "      <td>0</td>\n",
       "      <td>0</td>\n",
       "      <td>0</td>\n",
       "      <td>-0.536111</td>\n",
       "    </tr>\n",
       "  </tbody>\n",
       "</table>\n",
       "</div>"
      ],
      "text/plain": [
       "                                 Id  Subject Focus  ...  Blur  Pawpularity\n",
       "0  cd7b87cd2935fa9fde63f77f06d9b953              0  ...     0     1.600750\n",
       "1  cd863f5c6a56232e5d7b9f26656e479f              0  ...     0    -0.536111\n",
       "2  cd895e70682ed5151a1a411f1e656a6b              0  ...     0     1.455055\n",
       "3  cd89974266e5591b36eb35d301d8a314              0  ...     0    -0.050461\n",
       "4  cd909abf8f425d7e646eebe4d3bf4769              0  ...     0    -0.536111\n",
       "\n",
       "[5 rows x 14 columns]"
      ]
     },
     "execution_count": 28,
     "metadata": {},
     "output_type": "execute_result"
    }
   ],
   "source": [
    "valid_csv_data.head()"
   ]
  },
  {
   "cell_type": "markdown",
   "metadata": {
    "id": "JMFoG4nS5Rfr"
   },
   "source": [
    "### **DATASET STUFF**"
   ]
  },
  {
   "cell_type": "code",
   "execution_count": 29,
   "metadata": {
    "id": "S59MoCbp5UZ2"
   },
   "outputs": [],
   "source": [
    "class ImageDataset(Dataset):\n",
    "    def __init__(self, base_path, csv_path, df, train, image_label_col_dict, transform):\n",
    "        super(ImageDataset, self).__init__()\n",
    "        self.base_path = base_path\n",
    "        self.csv_path = csv_path\n",
    "        self.df = df\n",
    "        self.train = train\n",
    "        self.transform = transform\n",
    "        if df is not None:\n",
    "            self.data = self.df\n",
    "        else:\n",
    "            self.data = pd.read_csv(self.csv_path)\n",
    "        self.image_col = image_label_col_dict['image']\n",
    "        self.label_col = image_label_col_dict['label']\n",
    "    \n",
    "    def __len__(self):\n",
    "        return len(self.data)\n",
    "    \n",
    "    def __getitem__(self, idx):\n",
    "        image_name = self.data[self.image_col][idx]\n",
    "        full_path = str(os.path.join(self.base_path, image_name) + '.jpg')\n",
    "        image = Image.open(full_path)\n",
    "        if self.transform:\n",
    "            image = self.transform(image)\n",
    "        if self.train:\n",
    "            label = self.data[self.label_col][idx]\n",
    "            label = torch.tensor(label, dtype=torch.float32).view(1,)\n",
    "        if not self.train:\n",
    "            return image\n",
    "        return (image, label)"
   ]
  },
  {
   "cell_type": "code",
   "execution_count": 30,
   "metadata": {
    "id": "eZIwBlvb5UXS"
   },
   "outputs": [],
   "source": [
    "class TabularDataset(Dataset):\n",
    "    def __init__(self, csv_path, df, train, feature_label_col_dict):\n",
    "        super(TabularDataset, self).__init__()\n",
    "        self.csv_path = csv_path\n",
    "        self.df = df \n",
    "        self.train = train \n",
    "        self.feature_label_col_dict = feature_label_col_dict\n",
    "        if df is not None:\n",
    "            self.data = self.df \n",
    "        else:\n",
    "            self.data = pd.read_csv(self.csv_path)\n",
    "    \n",
    "    def __len__(self):\n",
    "        return len(self.data)\n",
    "    \n",
    "    def __getitem__(self, idx):\n",
    "        feature_start = self.feature_label_col_dict['feature'][0]\n",
    "        feature_end = self.feature_label_col_dict['feature'][1]\n",
    "        label = self.feature_label_col_dict['label']\n",
    "\n",
    "        feature_data = np.array(self.data.iloc[:, feature_start:feature_end])\n",
    "        label_data = np.array(self.data.iloc[:, label:])\n",
    "        features = torch.tensor(feature_data[idx], dtype=torch.float32) \n",
    "        label = torch.tensor(label_data[idx], dtype=torch.float32).view(1)\n",
    "        if not self.train:\n",
    "            return features \n",
    "        return (features, label)"
   ]
  },
  {
   "cell_type": "code",
   "execution_count": 31,
   "metadata": {
    "id": "QOMcgtgn4jMD"
   },
   "outputs": [],
   "source": [
    "train_transform = transforms.Compose([\n",
    "    transforms.ToTensor(),\n",
    "    transforms.Resize((224,224)),\n",
    "    transforms.Normalize(mean=[0.5, 0.5, 0.5], std=[0.5, 0.5, 0.5])\n",
    "])\n",
    "\n",
    "valid_transform = transforms.Compose([\n",
    "    transforms.ToTensor(),\n",
    "    transforms.Resize((224,224))\n",
    "])"
   ]
  },
  {
   "cell_type": "code",
   "execution_count": 32,
   "metadata": {
    "id": "Z-Zq9Mki5JBW"
   },
   "outputs": [],
   "source": [
    "image_label_col_dict = {\n",
    "    'image' : 'Id',\n",
    "    'label' : 'Pawpularity'\n",
    "}\n",
    "\n",
    "feature_label_col_dict = {\n",
    "    'feature' : (1, -1),\n",
    "    'label'   : -1\n",
    "}"
   ]
  },
  {
   "cell_type": "code",
   "execution_count": 33,
   "metadata": {
    "id": "C4IazOZk6b1X"
   },
   "outputs": [],
   "source": [
    "train_valid_base_path = '/content/train'\n",
    "\n",
    "# train\n",
    "\n",
    "image_train_dataset = ImageDataset(\n",
    "    base_path=train_valid_base_path,\n",
    "    csv_path=None,\n",
    "    df = train_csv_data,\n",
    "    train = True,\n",
    "    image_label_col_dict=image_label_col_dict,\n",
    "    transform=train_transform)\n",
    "\n",
    "tabular_train_dataset = TabularDataset(\n",
    "    csv_path=None,\n",
    "    df = train_csv_data,\n",
    "    train=True,\n",
    "    feature_label_col_dict=feature_label_col_dict\n",
    ")\n",
    "\n",
    "# valid\n",
    "\n",
    "image_valid_dataset = ImageDataset(\n",
    "    base_path=train_valid_base_path,\n",
    "    csv_path=None,\n",
    "    df=valid_csv_data,\n",
    "    train=True,\n",
    "    image_label_col_dict=image_label_col_dict,\n",
    "    transform=valid_transform)\n",
    "\n",
    "tabular_valid_dataset = TabularDataset(\n",
    "    csv_path=None,\n",
    "    df=valid_csv_data,\n",
    "    train=True,\n",
    "    feature_label_col_dict=feature_label_col_dict\n",
    ")"
   ]
  },
  {
   "cell_type": "code",
   "execution_count": 34,
   "metadata": {
    "id": "8a9T2Hun-gkn"
   },
   "outputs": [],
   "source": [
    "# image loaders\n",
    "\n",
    "image_train_loader = DataLoader(\n",
    "    dataset=image_train_dataset,\n",
    "    batch_size=64,\n",
    ")\n",
    "\n",
    "image_valid_loader = DataLoader(\n",
    "    dataset=image_valid_dataset,\n",
    "    batch_size=64,\n",
    ")\n",
    "\n",
    "# tabular loaders\n",
    "\n",
    "tabular_train_loader = DataLoader(\n",
    "    dataset=tabular_train_dataset,\n",
    "    batch_size=64\n",
    ")\n",
    "\n",
    "tabular_valid_loader = DataLoader(\n",
    "    dataset=tabular_valid_dataset,\n",
    "    batch_size=64\n",
    ")"
   ]
  },
  {
   "cell_type": "markdown",
   "metadata": {
    "id": "eofV_o6S-7Mg"
   },
   "source": [
    "### **MODEL STUFF**"
   ]
  },
  {
   "cell_type": "code",
   "execution_count": 50,
   "metadata": {
    "id": "HDFWnDCm-uy2"
   },
   "outputs": [],
   "source": [
    "class ViTModel(nn.Module):\n",
    "    def __init__(self):\n",
    "        super(ViTModel, self).__init__()\n",
    "        self.ViT = ViT(\n",
    "                image_size = 256,\n",
    "                patch_size = 32,\n",
    "                num_classes = 512,\n",
    "                dim = 1024,\n",
    "                depth = 6,\n",
    "                heads = 16,\n",
    "                mlp_dim = 2048,\n",
    "                dropout = 0.1,\n",
    "                emb_dropout = 0.1\n",
    "            )\n",
    "\n",
    "        self.flatten = nn.Flatten()\n",
    "        self.linear = nn.Linear(in_features=512, out_features=512)\n",
    "    \n",
    "    def forward(self, x):\n",
    "        x = self.ViT(x)\n",
    "        x = self.linear(x)\n",
    "        return x\n",
    "\n",
    "\n",
    "class TabularModel(nn.Module):\n",
    "    def __init__(self):\n",
    "        super(TabularModel, self).__init__()\n",
    "        self.linear1 = nn.Linear(in_features = 12, out_features = 32)\n",
    "        self.linear2 = nn.Linear(in_features = 32, out_features = 64)\n",
    "        self.relu = nn.ReLU()\n",
    "\n",
    "    def forward(self, x):\n",
    "        x = self.linear1(x)\n",
    "        x = self.relu(x) \n",
    "        x = self.linear2(x)\n",
    "        return x \n",
    "\n",
    "\n",
    "class ViTTabularModel(nn.Module):\n",
    "    def __init__(self, model1, model2):\n",
    "        super(ViTTabularModel, self).__init__()\n",
    "        self.model1 = model1\n",
    "        self.model2 = model2\n",
    "        self.linear = nn.Linear(576, 1)\n",
    "    \n",
    "    def forward(self, x1, x2):\n",
    "        x1 = self.model1(x1)\n",
    "        x2 = self.model2(x2)\n",
    "        x = torch.cat((x1, x2), dim = 1)\n",
    "        x = self.linear(x)\n",
    "        return F.sigmoid(x)"
   ]
  },
  {
   "cell_type": "code",
   "execution_count": 52,
   "metadata": {
    "id": "oH3vMyb7DGUa"
   },
   "outputs": [],
   "source": [
    "def get_rmse(out, y, scaler):\n",
    "  \"\"\"\n",
    "  out : torch.tensor()\n",
    "  y   : torch.tensor()\n",
    "  \"\"\"\n",
    "  out = out.tolist()\n",
    "  y = y.tolist()\n",
    "  preds = scaler.inverse_transform(out)\n",
    "  preds = preds.reshape(len(preds))\n",
    "  y = scaler.inverse_transform(y)\n",
    "  y = y.reshape(len(y))\n",
    "  mse = mean_squared_error(y, preds)\n",
    "  return math.sqrt(mse)"
   ]
  },
  {
   "cell_type": "code",
   "execution_count": 79,
   "metadata": {
    "id": "J-yK4uVcFfDx"
   },
   "outputs": [],
   "source": [
    "class Train(object):\n",
    "    def __init__(self, loaders, model, criterion, optimizer, scheduler, num_epochs, scaler):\n",
    "        super(Train, self).__init__()\n",
    "        self.loaders = loaders\n",
    "        self.final_model = model \n",
    "        self.criterion = criterion\n",
    "        self.optimizer = optimizer\n",
    "        self.num_epochs = num_epochs\n",
    "        self.device = 'cuda' if torch.cuda.is_available() else 'cpu'\n",
    "        self.train_image_data_loader = self.loaders['image']['train']\n",
    "        self.valid_image_data_loader = self.loaders['image']['valid']\n",
    "\n",
    "        self.train_tab_data_loader = self.loaders['tabular']['train']\n",
    "        self.valid_tab_data_loader = self.loaders['tabular']['valid']\n",
    "        self.scaler = scaler\n",
    "        self.history = {\n",
    "            'train_loss' : [],\n",
    "            'valid_loss' : [],\n",
    "            }\n",
    "        self.scheduler = scheduler\n",
    "    \n",
    "    def train_model(self):\n",
    "        for epoch in range(self.num_epochs):\n",
    "            if self.scheduler:\n",
    "                self.scheduler.step(epoch)\n",
    "            running_loss = 0.0\n",
    "            batches_till = 0.0\n",
    "            for ((img_data, label), (tab_data, _)) in zip(self.train_image_data_loader, self.train_tab_data_loader):\n",
    "                batches_till += 1\n",
    "                X_img = img_data.to(device)\n",
    "                X_tab = tab_data.to(device)\n",
    "                y = label.to(device)\n",
    "                self.optimizer.zero_grad()\n",
    "                output = self.final_model(X_img, X_tab)\n",
    "                loss = self.criterion(output, y)\n",
    "                running_loss += loss.item()\n",
    "                self.history['train_loss'].append(running_loss/batches_till)\n",
    "                sys.stdout.write(\"\\r{}> {} {} {} {} {} {}\".format(\n",
    "                    '=' * int(batches_till / 64),\n",
    "                    'Epoch: ',\n",
    "                    epoch,\n",
    "                    'Batch: ',\n",
    "                    batches_till,\n",
    "                    'Train Loss: ',\n",
    "                    {running_loss / batches_till}\n",
    "                ))\n",
    "                loss.backward()\n",
    "                self.optimizer.step()\n",
    "            self.validate_model(self.scaler)\n",
    "            self.final_model = copy.deepcopy(self.final_model)\n",
    "            print(\"\\n\")\n",
    "        return self.final_model\n",
    "\n",
    "\n",
    "    def _rmse_score(self, out, y, scaler):\n",
    "      out = out.tolist()\n",
    "      y = y.tolist()\n",
    "      preds = scaler.inverse_transform(out)\n",
    "      preds = preds.reshape(len(preds))\n",
    "      y = scaler.inverse_transform(y)\n",
    "      y = y.reshape(len(y))\n",
    "      mse = mean_squared_error(y, preds)\n",
    "      return math.sqrt(mse)\n",
    "      \n",
    "\n",
    "    def validate_model(self, scaler):\n",
    "        running_loss = 0.0 \n",
    "        batches_till = 0.0 \n",
    "        rmse_score = 0.0\n",
    "\n",
    "        with torch.no_grad():\n",
    "            for ((img_data, label), (tab_data, _)) in zip(self.valid_image_data_loader, self.valid_tab_data_loader):\n",
    "                batches_till += 1\n",
    "                X_img = img_data.to(device)\n",
    "                X_tab = tab_data.to(device)\n",
    "                y = label.to(device)\n",
    "                outputs = self.final_model(X_img, X_tab)\n",
    "                loss = self.criterion(outputs, y)\n",
    "                running_loss += loss.item()\n",
    "                rmse_score += self._rmse_score(outputs, y, scaler)\n",
    "\n",
    "                self.history['valid_loss'].append(running_loss)\n",
    "                sys.stdout.write(\"\\r{}> {} {} {} {} {} {}\".format(\n",
    "                    '=' * int(batches_till / 64),\n",
    "                    'Batch: ',\n",
    "                    batches_till,\n",
    "                    'Valid Loss: ',\n",
    "                    {running_loss / batches_till},\n",
    "                    'RMSE score: ',\n",
    "                    {rmse_score / batches_till}\n",
    "                ))\n",
    "            print()\n",
    "            print(f\"RMSE : {rmse_score / batches_till}\")"
   ]
  },
  {
   "cell_type": "code",
   "execution_count": 54,
   "metadata": {
    "id": "1pbsjX0dOv86"
   },
   "outputs": [],
   "source": [
    "class RMSELoss(nn.Module):\n",
    "    def __init__(self, eps=1e-6):\n",
    "        super().__init__()\n",
    "        self.mse = nn.MSELoss()\n",
    "        self.eps = eps\n",
    "        \n",
    "    def forward(self,yhat,y):\n",
    "        loss = torch.sqrt(self.mse(yhat,y) + self.eps)\n",
    "        return loss"
   ]
  },
  {
   "cell_type": "code",
   "execution_count": 51,
   "metadata": {
    "id": "FZYqHrbsA0DL"
   },
   "outputs": [],
   "source": [
    "image_model = ViTModel().to(device)\n",
    "tabular_model = TabularModel().to(device)\n",
    "main_model = ViTTabularModel(image_model, tabular_model).to(device)"
   ]
  },
  {
   "cell_type": "code",
   "execution_count": 55,
   "metadata": {
    "id": "3z-0vLULNl7N"
   },
   "outputs": [],
   "source": [
    "image_data_loaders = {\n",
    "    'train' : image_train_loader,\n",
    "    'valid' : image_valid_loader\n",
    "}\n",
    "\n",
    "tabular_data_loaders = {\n",
    "    'train' : tabular_train_loader,\n",
    "    'valid' : tabular_valid_loader\n",
    "}\n",
    "\n",
    "loaders = {\n",
    "    'image'   : image_data_loaders,\n",
    "    'tabular' : tabular_data_loaders\n",
    "}"
   ]
  },
  {
   "cell_type": "code",
   "execution_count": 56,
   "metadata": {
    "id": "u1yBm0MWFfCt"
   },
   "outputs": [],
   "source": [
    "criterion = RMSELoss()\n",
    "optimizer = optim.Adam(main_model.parameters(), lr=0.0001)\n",
    "scheduler = optim.lr_scheduler.StepLR(optimizer, step_size=2, gamma=0.1)"
   ]
  },
  {
   "cell_type": "code",
   "execution_count": 57,
   "metadata": {
    "id": "TlFVLv1HFe_a"
   },
   "outputs": [],
   "source": [
    "train_model_config = Train(\n",
    "    loaders = loaders,\n",
    "    model = main_model,\n",
    "    criterion = criterion,\n",
    "    optimizer = optimizer,\n",
    "    scheduler = scheduler,\n",
    "    num_epochs = 5,\n",
    "    scaler = scaler\n",
    ")"
   ]
  },
  {
   "cell_type": "code",
   "execution_count": 58,
   "metadata": {
    "colab": {
     "base_uri": "https://localhost:8080/"
    },
    "id": "qvBcQDaqFe9R",
    "outputId": "4d117d2d-cbf1-498b-ff4b-6f8800812e8f"
   },
   "outputs": [
    {
     "name": "stdout",
     "output_type": "stream",
     "text": [
      "=> Epoch:  0 Batch:  124.0 Train Loss:  {0.9960447770933951}\n",
      "> Batch:  31.0 Valid Loss:  {0.985513283360389} RMSE score:  {20.292645744237543}RMSE : 20.292645744237543\n",
      "=> Epoch:  1 Batch:  124.0 Train Loss:  {0.9955223678581177}\n",
      "> Batch:  31.0 Valid Loss:  {0.985513037250888} RMSE score:  {20.292640163500792}RMSE : 20.292640163500792\n",
      "=> Epoch:  2 Batch:  124.0 Train Loss:  {0.9955221669327828}\n",
      "> Batch:  31.0 Valid Loss:  {0.9855129834144346} RMSE score:  {20.29263947093753}RMSE : 20.29263947093753\n",
      "=> Epoch:  3 Batch:  124.0 Train Loss:  {0.9955223625706088}\n",
      "> Batch:  31.0 Valid Loss:  {0.9855133987242176} RMSE score:  {20.292647984200254}RMSE : 20.292647984200254\n",
      "=> Epoch:  4 Batch:  124.0 Train Loss:  {0.9955220996372162}\n",
      "> Batch:  31.0 Valid Loss:  {0.9855132891285804} RMSE score:  {20.292645698899356}RMSE : 20.292645698899356\n"
     ]
    }
   ],
   "source": [
    "main_model = train_model_config.train_model()"
   ]
  },
  {
   "cell_type": "code",
   "execution_count": 59,
   "metadata": {
    "id": "yKzVo_nvFB9p"
   },
   "outputs": [],
   "source": [
    "history1 = train_model_config.history"
   ]
  },
  {
   "cell_type": "code",
   "execution_count": 60,
   "metadata": {
    "colab": {
     "base_uri": "https://localhost:8080/",
     "height": 282
    },
    "id": "eDjo-sBKbUiA",
    "outputId": "62cb40df-b288-4225-b4c0-a21a5ab68a61"
   },
   "outputs": [
    {
     "data": {
      "text/plain": [
       "[<matplotlib.lines.Line2D at 0x7f18ade897d0>]"
      ]
     },
     "execution_count": 60,
     "metadata": {},
     "output_type": "execute_result"
    },
    {
     "data": {
      "image/png": "[encoded data removed]",
      "text/plain": [
       "<Figure size 432x288 with 1 Axes>"
      ]
     },
     "metadata": {
      "needs_background": "light"
     },
     "output_type": "display_data"
    }
   ],
   "source": [
    "plt.plot(history1['train_loss'])"
   ]
  },
  {
   "cell_type": "code",
   "execution_count": 61,
   "metadata": {
    "colab": {
     "base_uri": "https://localhost:8080/",
     "height": 282
    },
    "id": "6FGtdAwbbbQQ",
    "outputId": "cc99ca40-3381-4c89-b207-5e155993f189"
   },
   "outputs": [
    {
     "data": {
      "text/plain": [
       "[<matplotlib.lines.Line2D at 0x7f18aa3c7a90>]"
      ]
     },
     "execution_count": 61,
     "metadata": {},
     "output_type": "execute_result"
    },
    {
     "data": {
      "image/png": "[encoded data removed]",
      "text/plain": [
       "<Figure size 432x288 with 1 Axes>"
      ]
     },
     "metadata": {
      "needs_background": "light"
     },
     "output_type": "display_data"
    }
   ],
   "source": [
    "plt.plot(history1['valid_loss'])"
   ]
  },
  {
   "cell_type": "code",
   "execution_count": 80,
   "metadata": {
    "id": "btRDSqsmcq1d"
   },
   "outputs": [],
   "source": [
    "class ImageModel(nn.Module):\n",
    "    def __init__(self):\n",
    "        super(ImageModel, self).__init__() \n",
    "        self.resnet152 = resnet152(pretrained=True)\n",
    "        self.resnet152.fc = nn.Linear(self.resnet152.fc.in_features, 512)\n",
    "        for params in self.resnet152.parameters():\n",
    "            params.requires_grad = False \n",
    "        \n",
    "\n",
    "    def forward(self, x):\n",
    "        x = self.resnet152(x)\n",
    "        return x\n",
    "\n",
    "class ImageTabularModel(nn.Module):\n",
    "    def __init__(self, model1, model2):\n",
    "        super(ImageTabularModel, self).__init__()\n",
    "        self.model1 = model1 \n",
    "        self.model2 = model2 \n",
    "        self.linear1 = nn.Linear(576, 128)\n",
    "        self.linear2 = nn.Linear(128, 32)\n",
    "        self.regressor = nn.Linear(32, 1)\n",
    "    \n",
    "    def forward(self, x1, x2):\n",
    "        x1 = self.model1(x1)\n",
    "        x2 = self.model2(x2)\n",
    "        x = torch.cat((x1, x2), dim=1)\n",
    "        x = self.linear1(x)\n",
    "        x = self.linear2(x)\n",
    "        x = self.regressor(x)\n",
    "        return torch.sigmoid(x)"
   ]
  },
  {
   "cell_type": "code",
   "execution_count": 81,
   "metadata": {
    "id": "b4I-FJ9Scqyq"
   },
   "outputs": [],
   "source": [
    "image_model2 = ImageModel().to(device)\n",
    "tabular_model = TabularModel().to(device)\n",
    "main_model2 = ImageTabularModel(image_model2, tabular_model).to(device)"
   ]
  },
  {
   "cell_type": "code",
   "execution_count": 82,
   "metadata": {
    "id": "_fIN1-yhcqw5"
   },
   "outputs": [],
   "source": [
    "criterion2 = RMSELoss()\n",
    "optimizer2 = optim.AdamW(main_model2.parameters(), lr = 0.01) \n",
    "scheduler2 = optim.lr_scheduler.StepLR(optimizer2, step_size=2, gamma=0.1)"
   ]
  },
  {
   "cell_type": "code",
   "execution_count": 85,
   "metadata": {
    "id": "KQ8myF0vcqu7"
   },
   "outputs": [],
   "source": [
    "train_model_config2 = Train(\n",
    "    loaders = loaders,\n",
    "    model = main_model2,\n",
    "    criterion = criterion2,\n",
    "    optimizer = optimizer2,\n",
    "    scheduler = scheduler2,\n",
    "    num_epochs = 2,\n",
    "    scaler = scaler\n",
    ")"
   ]
  },
  {
   "cell_type": "code",
   "execution_count": 86,
   "metadata": {
    "colab": {
     "base_uri": "https://localhost:8080/"
    },
    "id": "1_YYT0yCh3a0",
    "outputId": "97a407ab-bdc7-4295-827c-d0d94973057f"
   },
   "outputs": [
    {
     "name": "stdout",
     "output_type": "stream",
     "text": [
      "> Batch:  31.0 Valid Loss:  {0.9855088649257537} RMSE score:  {20.29255469978782}\n",
      "RMSE : 20.29255469978782\n",
      "\n",
      "\n",
      "> Batch:  31.0 Valid Loss:  {0.9855088649257537} RMSE score:  {20.29255469978782}\n",
      "RMSE : 20.29255469978782\n",
      "\n",
      "\n"
     ]
    }
   ],
   "source": [
    "main_model2 = train_model_config2.train_model()"
   ]
  },
  {
   "cell_type": "code",
   "execution_count": 89,
   "metadata": {
    "colab": {
     "base_uri": "https://localhost:8080/",
     "height": 282
    },
    "id": "wEaZ4j6wh7bZ",
    "outputId": "907728a8-6f39-46e1-e0fc-3bd4f289743f"
   },
   "outputs": [
    {
     "data": {
      "text/plain": [
       "[<matplotlib.lines.Line2D at 0x7f18a8ede110>]"
      ]
     },
     "execution_count": 89,
     "metadata": {},
     "output_type": "execute_result"
    },
    {
     "data": {
      "image/png": "[encoded data removed]",
      "text/plain": [
       "<Figure size 432x288 with 1 Axes>"
      ]
     },
     "metadata": {
      "needs_background": "light"
     },
     "output_type": "display_data"
    }
   ],
   "source": [
    "history1 = train_model_config2.history\n",
    "plt.plot(history1['train_loss'])"
   ]
  },
  {
   "cell_type": "code",
   "execution_count": 90,
   "metadata": {
    "colab": {
     "base_uri": "https://localhost:8080/",
     "height": 282
    },
    "id": "yTXkzBN9iIk5",
    "outputId": "91ad03ed-8b88-4e7a-b425-316932bc12d7"
   },
   "outputs": [
    {
     "data": {
      "text/plain": [
       "[<matplotlib.lines.Line2D at 0x7f18a8df6890>]"
      ]
     },
     "execution_count": 90,
     "metadata": {},
     "output_type": "execute_result"
    },
    {
     "data": {
      "image/png": "[encoded data removed]",
      "text/plain": [
       "<Figure size 432x288 with 1 Axes>"
      ]
     },
     "metadata": {
      "needs_background": "light"
     },
     "output_type": "display_data"
    }
   ],
   "source": [
    "plt.plot(history1['valid_loss'])"
   ]
  }
 ],
 "metadata": {
  "accelerator": "GPU",
  "colab": {
   "name": "PAW CONCAT TRIAL 1",
   "provenance": []
  },
  "kernelspec": {
   "display_name": "Python 3 (ipykernel)",
   "language": "python",
   "name": "python3"
  },
  "language_info": {
   "codemirror_mode": {
    "name": "ipython",
    "version": 3
   },
   "file_extension": ".py",
   "mimetype": "text/x-python",
   "name": "python",
   "nbconvert_exporter": "python",
   "pygments_lexer": "ipython3",
   "version": "3.7.6"
  }
 },
 "nbformat": 4,
 "nbformat_minor": 4
}
